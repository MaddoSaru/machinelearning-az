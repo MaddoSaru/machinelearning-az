{
  "nbformat": 4,
  "nbformat_minor": 0,
  "metadata": {
    "colab": {
      "name": "Untitled3.ipynb",
      "provenance": [],
      "authorship_tag": "ABX9TyMGI5ulqzK1VEHErxyadocI",
      "include_colab_link": true
    },
    "kernelspec": {
      "name": "python3",
      "display_name": "Python 3"
    }
  },
  "cells": [
    {
      "cell_type": "markdown",
      "metadata": {
        "id": "view-in-github",
        "colab_type": "text"
      },
      "source": [
        "<a href=\"https://colab.research.google.com/github/MaddoSaru/machinelearning-az/blob/master/Plantilla%20de%20Pre%20Procesado.ipynb\" target=\"_parent\"><img src=\"https://colab.research.google.com/assets/colab-badge.svg\" alt=\"Open In Colab\"/></a>"
      ]
    },
    {
      "cell_type": "markdown",
      "metadata": {
        "id": "ReOR-OovMoYs",
        "colab_type": "text"
      },
      "source": [
        "# **Plantilla de Pre Procesado**"
      ]
    },
    {
      "cell_type": "markdown",
      "metadata": {
        "id": "_j2MTCFmMxuT",
        "colab_type": "text"
      },
      "source": [
        "**Importar librerías**"
      ]
    },
    {
      "cell_type": "code",
      "metadata": {
        "id": "wrwdK8PPMngR",
        "colab_type": "code",
        "colab": {}
      },
      "source": [
        "import numpy as np\n",
        "import matplotlib.pyplot as plt\n",
        "import pandas as pd"
      ],
      "execution_count": 29,
      "outputs": []
    },
    {
      "cell_type": "markdown",
      "metadata": {
        "id": "BytZYnUTN0Pe",
        "colab_type": "text"
      },
      "source": [
        "**Importar data sets**"
      ]
    },
    {
      "cell_type": "code",
      "metadata": {
        "id": "fSQEsmibN5Bf",
        "colab_type": "code",
        "colab": {}
      },
      "source": [
        "dataset = pd.read_csv(\"https://raw.githubusercontent.com/MaddoSaru/machinelearning-az/master/datasets/Part%201%20-%20Data%20Preprocessing/Section%202%20--------------------%20Part%201%20-%20Data%20Preprocessing%20--------------------/Data.csv\")\n",
        "x = dataset.iloc[:, :-1].values\n",
        "y = dataset.iloc[:, 3].values"
      ],
      "execution_count": 30,
      "outputs": []
    },
    {
      "cell_type": "markdown",
      "metadata": {
        "id": "TkaUvPMgPqsz",
        "colab_type": "text"
      },
      "source": [
        "**Tratamiento de datos faltantes**"
      ]
    },
    {
      "cell_type": "code",
      "metadata": {
        "id": "qczKUUWpPxUk",
        "colab_type": "code",
        "colab": {}
      },
      "source": [
        "dataset = dataset.fillna(value = dataset.mean(axis=0), axis = 0)\n",
        "x = dataset.iloc[:, :-1].values\n",
        "y = dataset.iloc[:, 3].values"
      ],
      "execution_count": 31,
      "outputs": []
    },
    {
      "cell_type": "markdown",
      "metadata": {
        "id": "cMIXoq1NN3Uv",
        "colab_type": "text"
      },
      "source": [
        "**Codificar datos categóricos**"
      ]
    },
    {
      "cell_type": "code",
      "metadata": {
        "id": "0w5AcTrdN6PL",
        "colab_type": "code",
        "colab": {
          "base_uri": "https://localhost:8080/",
          "height": 136
        },
        "outputId": "74e29572-95ce-4820-e91a-a283c831272c"
      },
      "source": [
        "from sklearn.preprocessing import LabelEncoder\n",
        "from sklearn.preprocessing import OneHotEncoder\n",
        "labelencoder_x = LabelEncoder()\n",
        "x[:,0] = labelencoder_x.fit_transform(x[:,0])\n",
        "onehotencoder = OneHotEncoder(categories='auto')\n",
        "x = onehotencoder.fit_transform(x).toarray()\n",
        "labelencoder_y = LabelEncoder()\n",
        "y = labelencoder_y.fit_transform(y)\n"
      ],
      "execution_count": 54,
      "outputs": [
        {
          "output_type": "execute_result",
          "data": {
            "text/plain": [
              "(array([[1., 0., 0., ..., 1., 1., 0.],\n",
              "        [0., 1., 1., ..., 1., 1., 0.],\n",
              "        [0., 1., 1., ..., 1., 1., 0.],\n",
              "        ...,\n",
              "        [1., 0., 0., ..., 1., 1., 0.],\n",
              "        [0., 1., 1., ..., 0., 0., 1.],\n",
              "        [1., 0., 0., ..., 1., 1., 0.]]), array([0, 1, 0, 0, 1, 1, 0, 1, 0, 1]))"
            ]
          },
          "metadata": {
            "tags": []
          },
          "execution_count": 54
        }
      ]
    }
  ]
}