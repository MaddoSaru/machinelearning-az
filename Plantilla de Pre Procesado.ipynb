{
  "nbformat": 4,
  "nbformat_minor": 0,
  "metadata": {
    "colab": {
      "name": "Untitled3.ipynb",
      "provenance": [],
      "authorship_tag": "ABX9TyOnWGuFLgFFamBmoSGwQW1d",
      "include_colab_link": true
    },
    "kernelspec": {
      "name": "python3",
      "display_name": "Python 3"
    }
  },
  "cells": [
    {
      "cell_type": "markdown",
      "metadata": {
        "id": "view-in-github",
        "colab_type": "text"
      },
      "source": [
        "<a href=\"https://colab.research.google.com/github/MaddoSaru/machinelearning-az/blob/master/Plantilla%20de%20Pre%20Procesado.ipynb\" target=\"_parent\"><img src=\"https://colab.research.google.com/assets/colab-badge.svg\" alt=\"Open In Colab\"/></a>"
      ]
    },
    {
      "cell_type": "markdown",
      "metadata": {
        "id": "ReOR-OovMoYs",
        "colab_type": "text"
      },
      "source": [
        "# **Plantilla de Pre Procesado**"
      ]
    },
    {
      "cell_type": "markdown",
      "metadata": {
        "id": "_j2MTCFmMxuT",
        "colab_type": "text"
      },
      "source": [
        "**Importar librerías**"
      ]
    },
    {
      "cell_type": "code",
      "metadata": {
        "id": "wrwdK8PPMngR",
        "colab_type": "code",
        "colab": {}
      },
      "source": [
        "import numpy as np\n",
        "import matplotlib.pyplot as plt\n",
        "import pandas as pd"
      ],
      "execution_count": 8,
      "outputs": []
    },
    {
      "cell_type": "markdown",
      "metadata": {
        "id": "BytZYnUTN0Pe",
        "colab_type": "text"
      },
      "source": [
        "**Importar data sets**"
      ]
    },
    {
      "cell_type": "code",
      "metadata": {
        "id": "fSQEsmibN5Bf",
        "colab_type": "code",
        "colab": {}
      },
      "source": [
        "dataset = pd.read_csv(\"https://raw.githubusercontent.com/MaddoSaru/machinelearning-az/master/datasets/Part%201%20-%20Data%20Preprocessing/Section%202%20--------------------%20Part%201%20-%20Data%20Preprocessing%20--------------------/Data.csv\")\n",
        "X = dataset.iloc[:, :-1].values\n",
        "y = dataset.iloc[:, 3].values"
      ],
      "execution_count": 9,
      "outputs": []
    },
    {
      "cell_type": "markdown",
      "metadata": {
        "id": "TkaUvPMgPqsz",
        "colab_type": "text"
      },
      "source": [
        "**Tratamiento de datos faltantes**"
      ]
    },
    {
      "cell_type": "code",
      "metadata": {
        "id": "qczKUUWpPxUk",
        "colab_type": "code",
        "colab": {}
      },
      "source": [
        "\"\"\"from sklearn.impute import SimpleImputer\n",
        "imputer = SimpleImputer(missing_values = np.nan, strategy = \"mean\", verbose=0)\n",
        "imputer = imputer.fit(X[:,1:3]) \n",
        "X[:, 1:3] = imputer.transform(X[:,1:3])\"\"\""
      ],
      "execution_count": 10,
      "outputs": []
    },
    {
      "cell_type": "markdown",
      "metadata": {
        "id": "cMIXoq1NN3Uv",
        "colab_type": "text"
      },
      "source": [
        "**Codificar datos categóricos**"
      ]
    },
    {
      "cell_type": "code",
      "metadata": {
        "id": "0w5AcTrdN6PL",
        "colab_type": "code",
        "colab": {}
      },
      "source": [
        "\"\"\"from sklearn.preprocessing import LabelEncoder, OneHotEncoder\n",
        "from sklearn.compose import ColumnTransformer\n",
        "\n",
        "labelencoder_X = LabelEncoder()\n",
        "X[:, 0] = labelencoder_X.fit_transform(X[:, 0])\n",
        "\n",
        "ct = ColumnTransformer(\n",
        "    [('one_hot_encoder', OneHotEncoder(categories='auto'), [0])],   \n",
        "    remainder='passthrough'                        \n",
        ")\n",
        "\n",
        "X = np.array(ct.fit_transform(X), dtype=np.float)\n",
        "labelencoder_y = LabelEncoder()\n",
        "y = labelencoder_y.fit_transform(y)\"\"\"\n"
      ],
      "execution_count": 11,
      "outputs": []
    },
    {
      "cell_type": "markdown",
      "metadata": {
        "id": "jHNAw5xIrDWd",
        "colab_type": "text"
      },
      "source": [
        "**Dividir dataset en training y testing**"
      ]
    },
    {
      "cell_type": "code",
      "metadata": {
        "id": "1rSy0z3grKq_",
        "colab_type": "code",
        "colab": {
          "base_uri": "https://localhost:8080/",
          "height": 306
        },
        "outputId": "7ba71a9e-9f37-4613-ea4f-b09572c674c5"
      },
      "source": [
        "from sklearn.model_selection import train_test_split\n",
        "X_train, X_test, y_train, y_test = train_test_split(X, y,test_size = 0.2, random_state = 0)"
      ],
      "execution_count": 14,
      "outputs": [
        {
          "output_type": "stream",
          "text": [
            "[[0.00000000e+00 1.00000000e+00 0.00000000e+00 4.00000000e+01\n",
            "  6.37777778e+04]\n",
            " [1.00000000e+00 0.00000000e+00 0.00000000e+00 3.70000000e+01\n",
            "  6.70000000e+04]\n",
            " [0.00000000e+00 0.00000000e+00 1.00000000e+00 2.70000000e+01\n",
            "  4.80000000e+04]\n",
            " [0.00000000e+00 0.00000000e+00 1.00000000e+00 3.87777778e+01\n",
            "  5.20000000e+04]\n",
            " [1.00000000e+00 0.00000000e+00 0.00000000e+00 4.80000000e+01\n",
            "  7.90000000e+04]\n",
            " [0.00000000e+00 0.00000000e+00 1.00000000e+00 3.80000000e+01\n",
            "  6.10000000e+04]\n",
            " [1.00000000e+00 0.00000000e+00 0.00000000e+00 4.40000000e+01\n",
            "  7.20000000e+04]\n",
            " [1.00000000e+00 0.00000000e+00 0.00000000e+00 3.50000000e+01\n",
            "  5.80000000e+04]] [[0.0e+00 1.0e+00 0.0e+00 3.0e+01 5.4e+04]\n",
            " [0.0e+00 1.0e+00 0.0e+00 5.0e+01 8.3e+04]]\n"
          ],
          "name": "stdout"
        }
      ]
    },
    {
      "cell_type": "markdown",
      "metadata": {
        "id": "xEo0g9bMrlfv",
        "colab_type": "text"
      },
      "source": [
        "**Escalado de variables**"
      ]
    },
    {
      "cell_type": "code",
      "metadata": {
        "id": "VZ960-88rog6",
        "colab_type": "code",
        "colab": {}
      },
      "source": [
        "\"\"\"from sklearn.preprocessing import StandardScaler\n",
        "sc_X = StandardScaler()\n",
        "X_train = sc_X.fit_transform(X_train)\n",
        "X_test = sc_X.transform(X_test)\"\"\""
      ],
      "execution_count": 15,
      "outputs": []
    }
  ]
}