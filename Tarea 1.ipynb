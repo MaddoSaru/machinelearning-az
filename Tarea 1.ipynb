{
  "nbformat": 4,
  "nbformat_minor": 0,
  "metadata": {
    "colab": {
      "name": "Untitled4.ipynb",
      "provenance": [],
      "authorship_tag": "ABX9TyMZ0W6SSvw4ItrWjPslR1lL",
      "include_colab_link": true
    },
    "kernelspec": {
      "name": "python3",
      "display_name": "Python 3"
    }
  },
  "cells": [
    {
      "cell_type": "markdown",
      "metadata": {
        "id": "view-in-github",
        "colab_type": "text"
      },
      "source": [
        "<a href=\"https://colab.research.google.com/github/MaddoSaru/machinelearning-az/blob/master/Tarea%201.ipynb\" target=\"_parent\"><img src=\"https://colab.research.google.com/assets/colab-badge.svg\" alt=\"Open In Colab\"/></a>"
      ]
    },
    {
      "cell_type": "markdown",
      "metadata": {
        "id": "tCGz_1lQNxrT",
        "colab_type": "text"
      },
      "source": [
        "# ***Tarea 1***"
      ]
    },
    {
      "cell_type": "markdown",
      "metadata": {
        "id": "qHcHoXUTPboc",
        "colab_type": "text"
      },
      "source": [
        "# **Procesamiento de datos**"
      ]
    },
    {
      "cell_type": "markdown",
      "metadata": {
        "id": "JLNlpF4JOGtS",
        "colab_type": "text"
      },
      "source": [
        "**Importar librerías**"
      ]
    },
    {
      "cell_type": "code",
      "metadata": {
        "id": "jXzjfPOJNwMn",
        "colab_type": "code",
        "colab": {}
      },
      "source": [
        "import numpy as np\n",
        "import matplotlib.pyplot as plt\n",
        "import pandas as pd"
      ],
      "execution_count": 68,
      "outputs": []
    },
    {
      "cell_type": "markdown",
      "metadata": {
        "id": "Yq-03oniOCJ9",
        "colab_type": "text"
      },
      "source": [
        "**Importar el dataset**"
      ]
    },
    {
      "cell_type": "code",
      "metadata": {
        "id": "MgSyvIG6OEHC",
        "colab_type": "code",
        "colab": {}
      },
      "source": [
        "dataset = pd.read_csv(\"https://raw.githubusercontent.com/MaddoSaru/machinelearning-az/master/datasets/Part%207%20-%20Natural%20Language%20Processing/Section%2036%20-%20Natural%20Language%20Processing/Restaurant_Reviews.tsv\", delimiter = \"\\t\", quoting = 3)"
      ],
      "execution_count": 69,
      "outputs": []
    },
    {
      "cell_type": "markdown",
      "metadata": {
        "id": "YaQ_yRSOOYMn",
        "colab_type": "text"
      },
      "source": [
        "**Limpieza de texto**"
      ]
    },
    {
      "cell_type": "code",
      "metadata": {
        "id": "eKrjwGysOaSX",
        "colab_type": "code",
        "colab": {
          "base_uri": "https://localhost:8080/",
          "height": 0
        },
        "outputId": "fa732a6d-225c-4bc7-f9ba-b34ca721cadc"
      },
      "source": [
        "import re\n",
        "import nltk\n",
        "nltk.download('stopwords')\n",
        "from nltk.corpus import stopwords\n",
        "from nltk.stem.porter import PorterStemmer\n",
        "corpus = []\n",
        "for i in range(0, 1000):\n",
        "    review = re.sub('[^a-zA-Z]', ' ', dataset['Review'][i])\n",
        "    review = review.lower()\n",
        "    review = review.split()\n",
        "    ps = PorterStemmer()\n",
        "    review = [ps.stem(word) for word in review if not word in set(stopwords.words('english'))]\n",
        "    review = ' '.join(review)\n",
        "    corpus.append(review)"
      ],
      "execution_count": 70,
      "outputs": [
        {
          "output_type": "stream",
          "text": [
            "[nltk_data] Downloading package stopwords to /root/nltk_data...\n",
            "[nltk_data]   Package stopwords is already up-to-date!\n"
          ],
          "name": "stdout"
        }
      ]
    },
    {
      "cell_type": "markdown",
      "metadata": {
        "id": "y18xuAfwOgJc",
        "colab_type": "text"
      },
      "source": [
        "**Crear Bag of Words**"
      ]
    },
    {
      "cell_type": "code",
      "metadata": {
        "id": "gyCOSW8tOife",
        "colab_type": "code",
        "colab": {}
      },
      "source": [
        "from sklearn.feature_extraction.text import CountVectorizer\n",
        "cv = CountVectorizer(max_features = 1500)\n",
        "X = cv.fit_transform(corpus).toarray()\n",
        "y = dataset.iloc[:, 1].values"
      ],
      "execution_count": 71,
      "outputs": []
    },
    {
      "cell_type": "markdown",
      "metadata": {
        "id": "wxHY7A_5OmQ-",
        "colab_type": "text"
      },
      "source": [
        "**Dividir el dataset en Entrenamiento y Testing**"
      ]
    },
    {
      "cell_type": "code",
      "metadata": {
        "id": "FJEuiVP4Oq5Q",
        "colab_type": "code",
        "colab": {}
      },
      "source": [
        "from sklearn.model_selection import train_test_split\n",
        "X_train, X_test, y_train, y_test = train_test_split(X, y, test_size = 0.20, random_state = 0)"
      ],
      "execution_count": 72,
      "outputs": []
    },
    {
      "cell_type": "markdown",
      "metadata": {
        "id": "H5Mish0CPrzU",
        "colab_type": "text"
      },
      "source": [
        "# **Procesamiento de Lenguajes Naturales**"
      ]
    },
    {
      "cell_type": "markdown",
      "metadata": {
        "id": "0hbl1kzzOvQP",
        "colab_type": "text"
      },
      "source": [
        "**Ajustar el clasificador en el conjunto de Entrenamiento**"
      ]
    },
    {
      "cell_type": "code",
      "metadata": {
        "id": "ZycAoSnEOyqR",
        "colab_type": "code",
        "colab": {
          "base_uri": "https://localhost:8080/",
          "height": 34
        },
        "outputId": "061007e6-4db7-460d-8c3a-849ab9e7f105"
      },
      "source": [
        "from sklearn.naive_bayes import GaussianNB\n",
        "classifier_LN = GaussianNB()\n",
        "classifier_LN.fit(X_train, y_train)"
      ],
      "execution_count": 37,
      "outputs": [
        {
          "output_type": "execute_result",
          "data": {
            "text/plain": [
              "GaussianNB(priors=None, var_smoothing=1e-09)"
            ]
          },
          "metadata": {
            "tags": []
          },
          "execution_count": 37
        }
      ]
    },
    {
      "cell_type": "markdown",
      "metadata": {
        "id": "T5vFZNDQO2Ef",
        "colab_type": "text"
      },
      "source": [
        "**Predicción con el conjunto de Testing**"
      ]
    },
    {
      "cell_type": "code",
      "metadata": {
        "id": "ImiGp4UDO7Kq",
        "colab_type": "code",
        "colab": {
          "base_uri": "https://localhost:8080/",
          "height": 123
        },
        "outputId": "9850323a-8164-426d-c437-0e60ddc79468"
      },
      "source": [
        "y_pred  = classifier_LN.predict(X_test)\n",
        "print(y_pred)"
      ],
      "execution_count": 38,
      "outputs": [
        {
          "output_type": "stream",
          "text": [
            "[1 1 1 0 0 1 1 1 1 1 1 1 1 1 1 1 0 0 0 1 0 0 1 1 1 0 1 1 1 0 1 1 1 1 1 0 1\n",
            " 0 1 1 1 1 1 0 0 0 1 1 0 0 1 1 1 1 1 0 1 1 0 1 1 0 1 1 1 0 1 1 1 1 1 1 1 1\n",
            " 0 1 1 0 0 1 0 1 1 0 1 1 1 0 1 1 0 1 0 0 1 1 1 1 1 1 0 1 1 1 0 1 1 1 0 0 0\n",
            " 1 0 1 1 0 1 1 1 1 1 0 1 1 0 0 1 1 0 1 1 1 0 0 1 1 1 1 1 1 0 1 1 0 1 0 1 1\n",
            " 1 1 1 0 1 1 1 0 1 1 1 1 1 0 0 1 0 0 1 0 0 0 0 1 1 0 0 1 0 1 0 0 1 0 0 1 0\n",
            " 1 0 1 0 1 1 0 1 1 1 0 1 1 1 1]\n"
          ],
          "name": "stdout"
        }
      ]
    },
    {
      "cell_type": "markdown",
      "metadata": {
        "id": "LaFTu4rLPEu2",
        "colab_type": "text"
      },
      "source": [
        "**Matriz de Confusión**"
      ]
    },
    {
      "cell_type": "code",
      "metadata": {
        "id": "VQXeRALoPHjg",
        "colab_type": "code",
        "colab": {
          "base_uri": "https://localhost:8080/",
          "height": 52
        },
        "outputId": "230ee321-69b6-4498-d964-5f55860f5627"
      },
      "source": [
        "from sklearn.metrics import confusion_matrix\n",
        "cm = confusion_matrix(y_test, y_pred)\n",
        "print(cm)"
      ],
      "execution_count": 39,
      "outputs": [
        {
          "output_type": "stream",
          "text": [
            "[[55 42]\n",
            " [12 91]]\n"
          ],
          "name": "stdout"
        }
      ]
    },
    {
      "cell_type": "markdown",
      "metadata": {
        "id": "myOCa1RyPxPa",
        "colab_type": "text"
      },
      "source": [
        "# **Naïve Bayes**"
      ]
    },
    {
      "cell_type": "markdown",
      "metadata": {
        "id": "cRvm6V-NP3Y6",
        "colab_type": "text"
      },
      "source": [
        "**Ajuste del modelo**"
      ]
    },
    {
      "cell_type": "code",
      "metadata": {
        "id": "uKlIIVHGP02n",
        "colab_type": "code",
        "colab": {
          "base_uri": "https://localhost:8080/",
          "height": 34
        },
        "outputId": "0a6a968d-84d3-480b-b77a-5d3e972d4772"
      },
      "source": [
        "from sklearn.naive_bayes import GaussianNB\n",
        "classifier_NB = GaussianNB()\n",
        "classifier_NB.fit(X_train, y_train)"
      ],
      "execution_count": 77,
      "outputs": [
        {
          "output_type": "execute_result",
          "data": {
            "text/plain": [
              "GaussianNB(priors=None, var_smoothing=1e-09)"
            ]
          },
          "metadata": {
            "tags": []
          },
          "execution_count": 77
        }
      ]
    },
    {
      "cell_type": "markdown",
      "metadata": {
        "id": "CbOZFH2UQLh8",
        "colab_type": "text"
      },
      "source": [
        "**Predicción con el conjunto de Testing**"
      ]
    },
    {
      "cell_type": "code",
      "metadata": {
        "id": "FIFiy3eaQTIC",
        "colab_type": "code",
        "colab": {
          "base_uri": "https://localhost:8080/",
          "height": 123
        },
        "outputId": "946812a2-fed9-4a4a-83f7-bf430130b644"
      },
      "source": [
        "y_pred  = classifier.predict(X_test)\n",
        "print(y_pred)"
      ],
      "execution_count": 78,
      "outputs": [
        {
          "output_type": "stream",
          "text": [
            "[0 0 0 0 0 0 1 0 0 1 1 1 1 1 1 1 0 0 0 1 0 1 1 0 0 1 0 1 1 0 0 0 0 1 1 0 0\n",
            " 0 0 1 1 0 0 0 0 0 1 1 1 0 0 1 0 1 0 0 0 0 0 0 0 0 0 1 1 0 0 0 0 0 1 1 0 0\n",
            " 0 0 0 1 0 1 0 1 1 0 1 1 0 1 1 0 0 1 0 0 0 0 0 0 0 1 0 1 1 1 1 0 0 1 0 0 0\n",
            " 0 0 0 0 0 1 0 1 0 0 0 1 0 0 0 0 1 0 0 0 1 0 0 1 1 1 1 1 0 0 1 0 0 0 0 0 0\n",
            " 0 0 0 0 1 1 0 0 1 0 1 0 0 0 1 0 1 0 0 0 0 0 0 1 0 0 0 0 0 1 0 1 1 0 0 0 0\n",
            " 0 0 0 0 1 1 0 0 0 0 0 1 1 0 0]\n"
          ],
          "name": "stdout"
        }
      ]
    },
    {
      "cell_type": "markdown",
      "metadata": {
        "id": "QKoqes1uQVbL",
        "colab_type": "text"
      },
      "source": [
        "**Matriz de confusión**"
      ]
    },
    {
      "cell_type": "code",
      "metadata": {
        "id": "DU1yySWYQaHZ",
        "colab_type": "code",
        "colab": {
          "base_uri": "https://localhost:8080/",
          "height": 52
        },
        "outputId": "4c84a26c-5cb5-47e2-bdae-7fd986f56fb0"
      },
      "source": [
        "from sklearn.metrics import confusion_matrix\n",
        "cm = confusion_matrix(y_test, y_pred)\n",
        "print(cm)"
      ],
      "execution_count": 79,
      "outputs": [
        {
          "output_type": "stream",
          "text": [
            "[[87 10]\n",
            " [46 57]]\n"
          ],
          "name": "stdout"
        }
      ]
    },
    {
      "cell_type": "markdown",
      "metadata": {
        "id": "bJr9jh5QR8Ms",
        "colab_type": "text"
      },
      "source": [
        "**Resultados**"
      ]
    },
    {
      "cell_type": "code",
      "metadata": {
        "id": "qLdcqwyKSDv7",
        "colab_type": "code",
        "colab": {
          "base_uri": "https://localhost:8080/",
          "height": 87
        },
        "outputId": "159ead78-4ab8-4ccb-aa4a-052d6b045782"
      },
      "source": [
        "TN=cm[1,1]\n",
        "TP=cm[0,0]\n",
        "FN=cm[1,0]\n",
        "FP=cm[0,1]\n",
        "ACC=(TP+TN)/(TP+TN+FP+FN)\n",
        "PCS=(TP)/(TP+FP)\n",
        "RCL=(TP)/(TP+FN)\n",
        "print(\"Accuracy: \",ACC)\n",
        "print(\"Precisión: \",PCS)\n",
        "print(\"Recall: \",RCL)\n",
        "print(\"F1 Score: \",2*PCS*RCL/(PCS+RCL))"
      ],
      "execution_count": 80,
      "outputs": [
        {
          "output_type": "stream",
          "text": [
            "Accuracy:  0.72\n",
            "Precisión:  0.8969072164948454\n",
            "Recall:  0.6541353383458647\n",
            "F1 Score:  0.7565217391304349\n"
          ],
          "name": "stdout"
        }
      ]
    },
    {
      "cell_type": "markdown",
      "metadata": {
        "colab_type": "text",
        "id": "USzqZ8VfQf24"
      },
      "source": [
        "# **Support Vector Machine (SVM)**"
      ]
    },
    {
      "cell_type": "markdown",
      "metadata": {
        "colab_type": "text",
        "id": "LCHJdXEvQf27"
      },
      "source": [
        "**Ajuste del modelo**"
      ]
    },
    {
      "cell_type": "code",
      "metadata": {
        "colab_type": "code",
        "id": "pU-s_Sh0Qf27",
        "colab": {
          "base_uri": "https://localhost:8080/",
          "height": 0
        },
        "outputId": "2ca175d1-bf79-4421-dbb3-e9a1ffaf6210"
      },
      "source": [
        "from sklearn.svm import SVC\n",
        "classifier = SVC(kernel = \"linear\", random_state = 0)\n",
        "classifier.fit(X_train, y_train)"
      ],
      "execution_count": 81,
      "outputs": [
        {
          "output_type": "execute_result",
          "data": {
            "text/plain": [
              "SVC(C=1.0, break_ties=False, cache_size=200, class_weight=None, coef0=0.0,\n",
              "    decision_function_shape='ovr', degree=3, gamma='scale', kernel='linear',\n",
              "    max_iter=-1, probability=False, random_state=0, shrinking=True, tol=0.001,\n",
              "    verbose=False)"
            ]
          },
          "metadata": {
            "tags": []
          },
          "execution_count": 81
        }
      ]
    },
    {
      "cell_type": "markdown",
      "metadata": {
        "colab_type": "text",
        "id": "w5shbslyQf3A"
      },
      "source": [
        "**Predicción con el conjunto de Testing**"
      ]
    },
    {
      "cell_type": "code",
      "metadata": {
        "colab_type": "code",
        "id": "19WMk_XRQf3A",
        "colab": {
          "base_uri": "https://localhost:8080/",
          "height": 0
        },
        "outputId": "8bb02395-011d-4440-d63f-1c4dbdfa0cf3"
      },
      "source": [
        "y_pred = classifier.predict(X_test)\n",
        "print(y_pred)"
      ],
      "execution_count": 82,
      "outputs": [
        {
          "output_type": "stream",
          "text": [
            "[0 0 0 0 0 0 1 0 0 1 1 1 0 1 1 1 0 0 0 1 0 0 1 1 1 1 0 1 1 1 1 1 0 0 1 0 0\n",
            " 0 0 1 1 1 1 0 0 0 1 1 1 0 1 1 0 1 1 0 0 0 0 0 0 0 0 0 1 0 1 0 0 0 1 1 0 0\n",
            " 0 1 1 1 0 1 1 1 1 0 1 1 1 0 1 1 0 1 0 0 1 0 0 0 0 1 0 1 1 1 0 0 1 1 0 0 0\n",
            " 1 0 1 0 0 1 1 1 1 0 1 1 1 0 0 1 1 0 0 0 1 0 0 1 1 1 1 1 0 0 1 0 0 0 0 0 0\n",
            " 0 1 0 0 1 1 1 0 1 0 1 1 0 0 1 0 1 0 0 0 0 0 0 1 1 0 0 1 0 1 0 0 1 1 0 0 0\n",
            " 0 0 1 0 1 1 0 0 0 1 0 1 1 0 1]\n"
          ],
          "name": "stdout"
        }
      ]
    },
    {
      "cell_type": "markdown",
      "metadata": {
        "colab_type": "text",
        "id": "iGujgPsHQf3E"
      },
      "source": [
        "**Matriz de confusión**"
      ]
    },
    {
      "cell_type": "code",
      "metadata": {
        "colab_type": "code",
        "id": "Ep7qceobQf3F",
        "colab": {
          "base_uri": "https://localhost:8080/",
          "height": 0
        },
        "outputId": "77b58b73-e9a2-448d-c955-2afe0b776c5c"
      },
      "source": [
        "from sklearn.metrics import confusion_matrix\n",
        "cm = confusion_matrix(y_test, y_pred)\n",
        "print(cm)"
      ],
      "execution_count": 83,
      "outputs": [
        {
          "output_type": "stream",
          "text": [
            "[[74 23]\n",
            " [33 70]]\n"
          ],
          "name": "stdout"
        }
      ]
    },
    {
      "cell_type": "markdown",
      "metadata": {
        "id": "kBbx4APUUvf7",
        "colab_type": "text"
      },
      "source": [
        "**Resultados**"
      ]
    },
    {
      "cell_type": "code",
      "metadata": {
        "id": "UgmNTJ7xUxWS",
        "colab_type": "code",
        "colab": {
          "base_uri": "https://localhost:8080/",
          "height": 0
        },
        "outputId": "be7639d8-edd4-45bc-89bf-2bf75fbbafa4"
      },
      "source": [
        "TN=cm[1,1]\n",
        "TP=cm[0,0]\n",
        "FN=cm[1,0]\n",
        "FP=cm[0,1]\n",
        "ACC=(TP+TN)/(TP+TN+FP+FN)\n",
        "PCS=(TP)/(TP+FP)\n",
        "RCL=(TP)/(TP+FN)\n",
        "print(\"Accuracy: \",ACC)\n",
        "print(\"Precisión: \",PCS)\n",
        "print(\"Recall: \",RCL)\n",
        "print(\"F1 Score: \",2*PCS*RCL/(PCS+RCL))"
      ],
      "execution_count": 84,
      "outputs": [
        {
          "output_type": "stream",
          "text": [
            "Accuracy:  0.72\n",
            "Precisión:  0.7628865979381443\n",
            "Recall:  0.6915887850467289\n",
            "F1 Score:  0.7254901960784315\n"
          ],
          "name": "stdout"
        }
      ]
    },
    {
      "cell_type": "markdown",
      "metadata": {
        "colab_type": "text",
        "id": "CrLv-a5aQ1Nx"
      },
      "source": [
        "# **Random Forest**"
      ]
    },
    {
      "cell_type": "markdown",
      "metadata": {
        "colab_type": "text",
        "id": "mbAjZR2XQ1N2"
      },
      "source": [
        "**Ajuste del modelo**"
      ]
    },
    {
      "cell_type": "code",
      "metadata": {
        "colab_type": "code",
        "id": "K75RSI7oQ1N3",
        "colab": {
          "base_uri": "https://localhost:8080/",
          "height": 0
        },
        "outputId": "b5f8131f-1389-4499-e934-70ca79c057df"
      },
      "source": [
        "from sklearn.ensemble import RandomForestClassifier\n",
        "classifier = RandomForestClassifier(n_estimators = 10, criterion = \"entropy\", random_state = 0)\n",
        "classifier.fit(X_train, y_train)"
      ],
      "execution_count": 85,
      "outputs": [
        {
          "output_type": "execute_result",
          "data": {
            "text/plain": [
              "RandomForestClassifier(bootstrap=True, ccp_alpha=0.0, class_weight=None,\n",
              "                       criterion='entropy', max_depth=None, max_features='auto',\n",
              "                       max_leaf_nodes=None, max_samples=None,\n",
              "                       min_impurity_decrease=0.0, min_impurity_split=None,\n",
              "                       min_samples_leaf=1, min_samples_split=2,\n",
              "                       min_weight_fraction_leaf=0.0, n_estimators=10,\n",
              "                       n_jobs=None, oob_score=False, random_state=0, verbose=0,\n",
              "                       warm_start=False)"
            ]
          },
          "metadata": {
            "tags": []
          },
          "execution_count": 85
        }
      ]
    },
    {
      "cell_type": "markdown",
      "metadata": {
        "colab_type": "text",
        "id": "Ng66zaPXQ1N6"
      },
      "source": [
        "**Predicción con el conjunto de Testing**"
      ]
    },
    {
      "cell_type": "code",
      "metadata": {
        "colab_type": "code",
        "id": "IGb_KAdTQ1N7",
        "colab": {
          "base_uri": "https://localhost:8080/",
          "height": 0
        },
        "outputId": "b3493e85-a4f3-42b1-99bc-0705ab1a581c"
      },
      "source": [
        "y_pred = classifier.predict(X_test)\n",
        "print(y_pred)"
      ],
      "execution_count": 86,
      "outputs": [
        {
          "output_type": "stream",
          "text": [
            "[0 0 0 0 0 0 1 0 0 1 1 1 1 1 1 1 0 0 0 1 0 1 1 0 0 1 0 1 1 0 0 0 0 1 1 0 0\n",
            " 0 0 1 1 0 0 0 0 0 1 1 1 0 0 1 0 1 0 0 0 0 0 0 0 0 0 1 1 0 0 0 0 0 1 1 0 0\n",
            " 0 0 0 1 0 1 0 1 1 0 1 1 0 1 1 0 0 1 0 0 0 0 0 0 0 1 0 1 1 1 1 0 0 1 0 0 0\n",
            " 0 0 0 0 0 1 0 1 0 0 0 1 0 0 0 0 1 0 0 0 1 0 0 1 1 1 1 1 0 0 1 0 0 0 0 0 0\n",
            " 0 0 0 0 1 1 0 0 1 0 1 0 0 0 1 0 1 0 0 0 0 0 0 1 0 0 0 0 0 1 0 1 1 0 0 0 0\n",
            " 0 0 0 0 1 1 0 0 0 0 0 1 1 0 0]\n"
          ],
          "name": "stdout"
        }
      ]
    },
    {
      "cell_type": "markdown",
      "metadata": {
        "colab_type": "text",
        "id": "NmABrfOkQ1N9"
      },
      "source": [
        "**Matriz de confusión**"
      ]
    },
    {
      "cell_type": "code",
      "metadata": {
        "colab_type": "code",
        "id": "g19fjahLQ1N9",
        "colab": {
          "base_uri": "https://localhost:8080/",
          "height": 0
        },
        "outputId": "6eee38d2-7773-4729-b9aa-d8657909a888"
      },
      "source": [
        "from sklearn.metrics import confusion_matrix\n",
        "cm = confusion_matrix(y_test, y_pred)\n",
        "print(cm)"
      ],
      "execution_count": 87,
      "outputs": [
        {
          "output_type": "stream",
          "text": [
            "[[87 10]\n",
            " [46 57]]\n"
          ],
          "name": "stdout"
        }
      ]
    },
    {
      "cell_type": "markdown",
      "metadata": {
        "id": "cAIr3LHnUyr5",
        "colab_type": "text"
      },
      "source": [
        "**Resultados**"
      ]
    },
    {
      "cell_type": "code",
      "metadata": {
        "id": "yinhYbmEU0Y6",
        "colab_type": "code",
        "colab": {
          "base_uri": "https://localhost:8080/",
          "height": 0
        },
        "outputId": "6d17269a-2daa-4fc4-d2b1-cc3d72d048e1"
      },
      "source": [
        "TN=cm[1,1]\n",
        "TP=cm[0,0]\n",
        "FN=cm[1,0]\n",
        "FP=cm[0,1]\n",
        "ACC=(TP+TN)/(TP+TN+FP+FN)\n",
        "PCS=(TP)/(TP+FP)\n",
        "RCL=(TP)/(TP+FN)\n",
        "print(\"Accuracy: \",ACC)\n",
        "print(\"Precisión: \",PCS)\n",
        "print(\"Recall: \",RCL)\n",
        "print(\"F1 Score: \",2*PCS*RCL/(PCS+RCL))"
      ],
      "execution_count": 88,
      "outputs": [
        {
          "output_type": "stream",
          "text": [
            "Accuracy:  0.72\n",
            "Precisión:  0.8969072164948454\n",
            "Recall:  0.6541353383458647\n",
            "F1 Score:  0.7565217391304349\n"
          ],
          "name": "stdout"
        }
      ]
    }
  ]
}